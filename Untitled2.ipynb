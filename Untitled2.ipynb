{
  "nbformat": 4,
  "nbformat_minor": 0,
  "metadata": {
    "colab": {
      "name": "Untitled2.ipynb",
      "provenance": []
    },
    "kernelspec": {
      "name": "python3",
      "display_name": "Python 3"
    },
    "language_info": {
      "name": "python"
    }
  },
  "cells": [
    {
      "cell_type": "markdown",
      "source": [
        "Practical No:4 write a program to create concatenate and print a string and accessing substring from a given string."
      ],
      "metadata": {
        "id": "4nDIC5AEU6FH"
      }
    },
    {
      "cell_type": "code",
      "source": [
        "s1=input(\"Enter first String : \"); \n",
        "s2=input(\"Enter second String : \");\n",
        "print(\"First string is : \",s1);\n",
        "print(\"Second string is : \",s2);\n",
        "print(\"concatenations of two strings :\",s1+s2);\n",
        "print(\"Substring of given string :\",s1[1:3]);\n"
      ],
      "metadata": {
        "colab": {
          "base_uri": "https://localhost:8080/"
        },
        "id": "llfTINmzU73W",
        "outputId": "9f174d75-fb58-4f18-9f33-8bc8b39061cb"
      },
      "execution_count": 1,
      "outputs": [
        {
          "output_type": "stream",
          "name": "stdout",
          "text": [
            "Enter first String : s1\n",
            "Enter second String : s2\n",
            "First string is :  s1\n",
            "Second string is :  s2\n",
            "concatenations of two strings : s1s2\n",
            "Substring of given string : 1\n"
          ]
        }
      ]
    }
  ]
}